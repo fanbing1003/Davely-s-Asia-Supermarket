{
 "cells": [
  {
   "cell_type": "code",
   "execution_count": 42,
   "id": "dde2087d",
   "metadata": {},
   "outputs": [],
   "source": [
    "import pandas as pd\n",
    "import os\n",
    "import warnings\n",
    "warnings.filterwarnings(\"ignore\")"
   ]
  },
  {
   "cell_type": "code",
   "execution_count": 73,
   "id": "41ae4f25",
   "metadata": {},
   "outputs": [],
   "source": [
    "product = pd.read_csv('PO_Shopshi_251122.csv')\n",
    "data = pd.read_csv('ImagesAndAttachments.csv')"
   ]
  },
  {
   "cell_type": "code",
   "execution_count": 74,
   "id": "a993fd1a",
   "metadata": {},
   "outputs": [
    {
     "data": {
      "text/html": [
       "<div>\n",
       "<style scoped>\n",
       "    .dataframe tbody tr th:only-of-type {\n",
       "        vertical-align: middle;\n",
       "    }\n",
       "\n",
       "    .dataframe tbody tr th {\n",
       "        vertical-align: top;\n",
       "    }\n",
       "\n",
       "    .dataframe thead th {\n",
       "        text-align: right;\n",
       "    }\n",
       "</style>\n",
       "<table border=\"1\" class=\"dataframe\">\n",
       "  <thead>\n",
       "    <tr style=\"text-align: right;\">\n",
       "      <th></th>\n",
       "      <th>Action</th>\n",
       "      <th>SKU</th>\n",
       "      <th>URL</th>\n",
       "      <th>FileName</th>\n",
       "      <th>Default</th>\n",
       "    </tr>\n",
       "  </thead>\n",
       "  <tbody>\n",
       "  </tbody>\n",
       "</table>\n",
       "</div>"
      ],
      "text/plain": [
       "Empty DataFrame\n",
       "Columns: [Action, SKU, URL, FileName, Default]\n",
       "Index: []"
      ]
     },
     "execution_count": 74,
     "metadata": {},
     "output_type": "execute_result"
    }
   ],
   "source": [
    "data"
   ]
  },
  {
   "cell_type": "code",
   "execution_count": 24,
   "id": "a3f67f6c",
   "metadata": {
    "scrolled": true
   },
   "outputs": [
    {
     "data": {
      "text/html": [
       "<div>\n",
       "<style scoped>\n",
       "    .dataframe tbody tr th:only-of-type {\n",
       "        vertical-align: middle;\n",
       "    }\n",
       "\n",
       "    .dataframe tbody tr th {\n",
       "        vertical-align: top;\n",
       "    }\n",
       "\n",
       "    .dataframe thead th {\n",
       "        text-align: right;\n",
       "    }\n",
       "</style>\n",
       "<table border=\"1\" class=\"dataframe\">\n",
       "  <thead>\n",
       "    <tr style=\"text-align: right;\">\n",
       "      <th></th>\n",
       "      <th>ProductCode</th>\n",
       "      <th>Name</th>\n",
       "      <th>Barcode</th>\n",
       "    </tr>\n",
       "  </thead>\n",
       "  <tbody>\n",
       "    <tr>\n",
       "      <th>0</th>\n",
       "      <td>8853969015309</td>\n",
       "      <td>(S) Pigeon Glutinous Rice/1kg</td>\n",
       "      <td>8853969015309</td>\n",
       "    </tr>\n",
       "    <tr>\n",
       "      <th>1</th>\n",
       "      <td>F0801R</td>\n",
       "      <td>(S) Pigeon Jasmine Rice/1Kg</td>\n",
       "      <td>8853969015224</td>\n",
       "    </tr>\n",
       "    <tr>\n",
       "      <th>2</th>\n",
       "      <td>9311994000015</td>\n",
       "      <td>(S) WING HONG LUP CHONG Dried Sausages/375G</td>\n",
       "      <td>9311994000015</td>\n",
       "    </tr>\n",
       "    <tr>\n",
       "      <th>3</th>\n",
       "      <td>AYDLS12</td>\n",
       "      <td>AROY-D LYCHEE IN SYRUP/565G</td>\n",
       "      <td>016229000561</td>\n",
       "    </tr>\n",
       "    <tr>\n",
       "      <th>4</th>\n",
       "      <td>4946842526512</td>\n",
       "      <td>Asahi Mintia Grape/6.5g</td>\n",
       "      <td>4946842526512</td>\n",
       "    </tr>\n",
       "    <tr>\n",
       "      <th>...</th>\n",
       "      <td>...</td>\n",
       "      <td>...</td>\n",
       "      <td>...</td>\n",
       "    </tr>\n",
       "    <tr>\n",
       "      <th>354</th>\n",
       "      <td>A077521273312</td>\n",
       "      <td>Yeo's Satay Sauce/270g</td>\n",
       "      <td>077521273312</td>\n",
       "    </tr>\n",
       "    <tr>\n",
       "      <th>355</th>\n",
       "      <td>9556156042872</td>\n",
       "      <td>Yeo's Soy Bean Drink With Whole soy Beans/250ml</td>\n",
       "      <td>9556156042872</td>\n",
       "    </tr>\n",
       "    <tr>\n",
       "      <th>356</th>\n",
       "      <td>6901370828383</td>\n",
       "      <td>Yulin Rub Model Sport Zheng Gu Shui Liniment/88ml</td>\n",
       "      <td>6901370828383</td>\n",
       "    </tr>\n",
       "    <tr>\n",
       "      <th>357</th>\n",
       "      <td>6901370653589</td>\n",
       "      <td>Yulin Zheng Gu Shui Liniment/100ml</td>\n",
       "      <td>6901370653589</td>\n",
       "    </tr>\n",
       "    <tr>\n",
       "      <th>358</th>\n",
       "      <td>4901111844872Zeitaku</td>\n",
       "      <td>Zeitaku Luxury Drip Pack Special Blend/8pcs</td>\n",
       "      <td>4901111844872</td>\n",
       "    </tr>\n",
       "  </tbody>\n",
       "</table>\n",
       "<p>359 rows × 3 columns</p>\n",
       "</div>"
      ],
      "text/plain": [
       "              ProductCode                                               Name  \\\n",
       "0           8853969015309                      (S) Pigeon Glutinous Rice/1kg   \n",
       "1                  F0801R                        (S) Pigeon Jasmine Rice/1Kg   \n",
       "2           9311994000015        (S) WING HONG LUP CHONG Dried Sausages/375G   \n",
       "3                 AYDLS12                        AROY-D LYCHEE IN SYRUP/565G   \n",
       "4           4946842526512                            Asahi Mintia Grape/6.5g   \n",
       "..                    ...                                                ...   \n",
       "354         A077521273312                             Yeo's Satay Sauce/270g   \n",
       "355         9556156042872    Yeo's Soy Bean Drink With Whole soy Beans/250ml   \n",
       "356         6901370828383  Yulin Rub Model Sport Zheng Gu Shui Liniment/88ml   \n",
       "357         6901370653589                 Yulin Zheng Gu Shui Liniment/100ml   \n",
       "358  4901111844872Zeitaku        Zeitaku Luxury Drip Pack Special Blend/8pcs   \n",
       "\n",
       "           Barcode  \n",
       "0    8853969015309  \n",
       "1    8853969015224  \n",
       "2    9311994000015  \n",
       "3     016229000561  \n",
       "4    4946842526512  \n",
       "..             ...  \n",
       "354   077521273312  \n",
       "355  9556156042872  \n",
       "356  6901370828383  \n",
       "357  6901370653589  \n",
       "358  4901111844872  \n",
       "\n",
       "[359 rows x 3 columns]"
      ]
     },
     "execution_count": 24,
     "metadata": {},
     "output_type": "execute_result"
    }
   ],
   "source": [
    "product[['ProductCode', 'Name', 'Barcode']]"
   ]
  },
  {
   "cell_type": "code",
   "execution_count": 32,
   "id": "053de074",
   "metadata": {},
   "outputs": [],
   "source": [
    "File_list = os.listdir()"
   ]
  },
  {
   "cell_type": "code",
   "execution_count": 75,
   "id": "832641e2",
   "metadata": {
    "scrolled": true
   },
   "outputs": [],
   "source": [
    "for i in range(len(product)):\n",
    "    SKU = product['ProductCode'][i]\n",
    "    FileName = ''\n",
    "    for j in File_list:\n",
    "        try:\n",
    "            if product['Barcode'][i] in j:\n",
    "                FileName = j\n",
    "        except:\n",
    "            continue\n",
    "    data = data.append({'SKU': SKU, 'FileName': FileName}, ignore_index=True)"
   ]
  },
  {
   "cell_type": "code",
   "execution_count": 37,
   "id": "65b50775",
   "metadata": {},
   "outputs": [
    {
     "data": {
      "text/plain": [
       "nan"
      ]
     },
     "execution_count": 37,
     "metadata": {},
     "output_type": "execute_result"
    }
   ],
   "source": [
    "product['Barcode'][i]"
   ]
  },
  {
   "cell_type": "code",
   "execution_count": 41,
   "id": "139cdf4c",
   "metadata": {},
   "outputs": [
    {
     "data": {
      "text/plain": [
       "ProductCode                                          BZK-KZ03\n",
       "Name                    BRUNO Digital Air Fryer (Light Green)\n",
       "Category                                             Cookware\n",
       "Brand                                                   Bruno\n",
       "Type                                                    Stock\n",
       "                                        ...                  \n",
       "DimensionAttribute6                                       NaN\n",
       "DimensionAttribute7                                       NaN\n",
       "DimensionAttribute8                                       NaN\n",
       "DimensionAttribute9                                       NaN\n",
       "DimensionAttribute10                                      NaN\n",
       "Name: 14, Length: 94, dtype: object"
      ]
     },
     "execution_count": 41,
     "metadata": {},
     "output_type": "execute_result"
    }
   ],
   "source": [
    "product.iloc[14, :]"
   ]
  },
  {
   "cell_type": "code",
   "execution_count": 76,
   "id": "76bac750",
   "metadata": {},
   "outputs": [],
   "source": [
    "data['SKU'] = data['SKU'].astype(str)"
   ]
  },
  {
   "cell_type": "code",
   "execution_count": 77,
   "id": "a62a5e72",
   "metadata": {},
   "outputs": [],
   "source": [
    "data.to_csv('AttachImage.csv')"
   ]
  },
  {
   "cell_type": "code",
   "execution_count": 78,
   "id": "d0d5e613",
   "metadata": {},
   "outputs": [],
   "source": [
    "info = pd.read_csv('AttachImage.csv')"
   ]
  },
  {
   "cell_type": "code",
   "execution_count": 79,
   "id": "27682193",
   "metadata": {},
   "outputs": [
    {
     "data": {
      "text/html": [
       "<div>\n",
       "<style scoped>\n",
       "    .dataframe tbody tr th:only-of-type {\n",
       "        vertical-align: middle;\n",
       "    }\n",
       "\n",
       "    .dataframe tbody tr th {\n",
       "        vertical-align: top;\n",
       "    }\n",
       "\n",
       "    .dataframe thead th {\n",
       "        text-align: right;\n",
       "    }\n",
       "</style>\n",
       "<table border=\"1\" class=\"dataframe\">\n",
       "  <thead>\n",
       "    <tr style=\"text-align: right;\">\n",
       "      <th></th>\n",
       "      <th>Unnamed: 0</th>\n",
       "      <th>Action</th>\n",
       "      <th>SKU</th>\n",
       "      <th>URL</th>\n",
       "      <th>FileName</th>\n",
       "      <th>Default</th>\n",
       "    </tr>\n",
       "  </thead>\n",
       "  <tbody>\n",
       "    <tr>\n",
       "      <th>0</th>\n",
       "      <td>0</td>\n",
       "      <td>NaN</td>\n",
       "      <td>8853969015309</td>\n",
       "      <td>NaN</td>\n",
       "      <td>8853969015309.png</td>\n",
       "      <td>NaN</td>\n",
       "    </tr>\n",
       "    <tr>\n",
       "      <th>1</th>\n",
       "      <td>1</td>\n",
       "      <td>NaN</td>\n",
       "      <td>F0801R</td>\n",
       "      <td>NaN</td>\n",
       "      <td>8853969015224.png</td>\n",
       "      <td>NaN</td>\n",
       "    </tr>\n",
       "    <tr>\n",
       "      <th>2</th>\n",
       "      <td>2</td>\n",
       "      <td>NaN</td>\n",
       "      <td>9311994000015</td>\n",
       "      <td>NaN</td>\n",
       "      <td>9311994000015.png</td>\n",
       "      <td>NaN</td>\n",
       "    </tr>\n",
       "    <tr>\n",
       "      <th>3</th>\n",
       "      <td>3</td>\n",
       "      <td>NaN</td>\n",
       "      <td>AYDLS12</td>\n",
       "      <td>NaN</td>\n",
       "      <td>016229000561.png</td>\n",
       "      <td>NaN</td>\n",
       "    </tr>\n",
       "    <tr>\n",
       "      <th>4</th>\n",
       "      <td>4</td>\n",
       "      <td>NaN</td>\n",
       "      <td>4946842526512</td>\n",
       "      <td>NaN</td>\n",
       "      <td>4946842526512.png</td>\n",
       "      <td>NaN</td>\n",
       "    </tr>\n",
       "    <tr>\n",
       "      <th>...</th>\n",
       "      <td>...</td>\n",
       "      <td>...</td>\n",
       "      <td>...</td>\n",
       "      <td>...</td>\n",
       "      <td>...</td>\n",
       "      <td>...</td>\n",
       "    </tr>\n",
       "    <tr>\n",
       "      <th>354</th>\n",
       "      <td>354</td>\n",
       "      <td>NaN</td>\n",
       "      <td>A077521273312</td>\n",
       "      <td>NaN</td>\n",
       "      <td>077521273312.png</td>\n",
       "      <td>NaN</td>\n",
       "    </tr>\n",
       "    <tr>\n",
       "      <th>355</th>\n",
       "      <td>355</td>\n",
       "      <td>NaN</td>\n",
       "      <td>9556156042872</td>\n",
       "      <td>NaN</td>\n",
       "      <td>9556156042872.jpg</td>\n",
       "      <td>NaN</td>\n",
       "    </tr>\n",
       "    <tr>\n",
       "      <th>356</th>\n",
       "      <td>356</td>\n",
       "      <td>NaN</td>\n",
       "      <td>6901370828383</td>\n",
       "      <td>NaN</td>\n",
       "      <td>6901370828383.png</td>\n",
       "      <td>NaN</td>\n",
       "    </tr>\n",
       "    <tr>\n",
       "      <th>357</th>\n",
       "      <td>357</td>\n",
       "      <td>NaN</td>\n",
       "      <td>6901370653589</td>\n",
       "      <td>NaN</td>\n",
       "      <td>6901370653589.png</td>\n",
       "      <td>NaN</td>\n",
       "    </tr>\n",
       "    <tr>\n",
       "      <th>358</th>\n",
       "      <td>358</td>\n",
       "      <td>NaN</td>\n",
       "      <td>4901111844872Zeitaku</td>\n",
       "      <td>NaN</td>\n",
       "      <td>4901111844872.jpg</td>\n",
       "      <td>NaN</td>\n",
       "    </tr>\n",
       "  </tbody>\n",
       "</table>\n",
       "<p>359 rows × 6 columns</p>\n",
       "</div>"
      ],
      "text/plain": [
       "     Unnamed: 0  Action                   SKU  URL           FileName  Default\n",
       "0             0     NaN         8853969015309  NaN  8853969015309.png      NaN\n",
       "1             1     NaN                F0801R  NaN  8853969015224.png      NaN\n",
       "2             2     NaN         9311994000015  NaN  9311994000015.png      NaN\n",
       "3             3     NaN               AYDLS12  NaN   016229000561.png      NaN\n",
       "4             4     NaN         4946842526512  NaN  4946842526512.png      NaN\n",
       "..          ...     ...                   ...  ...                ...      ...\n",
       "354         354     NaN         A077521273312  NaN   077521273312.png      NaN\n",
       "355         355     NaN         9556156042872  NaN  9556156042872.jpg      NaN\n",
       "356         356     NaN         6901370828383  NaN  6901370828383.png      NaN\n",
       "357         357     NaN         6901370653589  NaN  6901370653589.png      NaN\n",
       "358         358     NaN  4901111844872Zeitaku  NaN  4901111844872.jpg      NaN\n",
       "\n",
       "[359 rows x 6 columns]"
      ]
     },
     "execution_count": 79,
     "metadata": {},
     "output_type": "execute_result"
    }
   ],
   "source": [
    "info"
   ]
  },
  {
   "cell_type": "code",
   "execution_count": null,
   "id": "f6c1d3b5",
   "metadata": {},
   "outputs": [],
   "source": [
    "For i in range(len(info)):\n",
    "    if info[]"
   ]
  }
 ],
 "metadata": {
  "kernelspec": {
   "display_name": "Python 3 (ipykernel)",
   "language": "python",
   "name": "python3"
  },
  "language_info": {
   "codemirror_mode": {
    "name": "ipython",
    "version": 3
   },
   "file_extension": ".py",
   "mimetype": "text/x-python",
   "name": "python",
   "nbconvert_exporter": "python",
   "pygments_lexer": "ipython3",
   "version": "3.9.13"
  }
 },
 "nbformat": 4,
 "nbformat_minor": 5
}
